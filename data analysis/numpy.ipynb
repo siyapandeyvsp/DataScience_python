{
 "cells": [
  {
   "cell_type": "markdown",
   "metadata": {},
   "source": [
<<<<<<< HEAD
    "# Data Analysis \n",
    "- helps in analysing data and finding a usefull output\n",
    "- numpy gives basic libraries for data analysis \n",
    "\n",
    "# Numpy\n",
    "\n",
    "`without numpy doing maths(matrix maths) is very complex in any language`\n",
    "- create array\n",
    "- maths\n",
    "- operations\n"
   ]
  },
  {
   "cell_type": "code",
   "execution_count": null,
   "metadata": {},
   "outputs": [],
   "source": [
    "x = [[1,2,3],[3,2,1]]\n",
    "sums=0\n",
    "for i in x:\n",
    "    for j in i:\n",
    "        sums+=j\n",
    "\n",
    "print(sums)\n",
    "\n",
    "print(x)"
=======
    "# Numpy\n",
    "- create array\n",
    "- maths\n",
    "- operations"
   ]
  },
  {
   "cell_type": "markdown",
   "metadata": {},
   "source": [
    "without numpy doing maths(matrix maths) is very complex in a any language"
>>>>>>> 85a4da63c9b54f19ef7418dfd9f7f6b558dbdde6
   ]
  },
  {
   "cell_type": "code",
<<<<<<< HEAD
   "execution_count": 2,
=======
   "execution_count": null,
>>>>>>> 85a4da63c9b54f19ef7418dfd9f7f6b558dbdde6
   "metadata": {},
   "outputs": [],
   "source": [
    "import numpy as np"
   ]
  },
  {
   "cell_type": "code",
   "execution_count": null,
   "metadata": {},
   "outputs": [],
   "source": [
<<<<<<< HEAD
    "x=np.array([[1,2,3],[3,4,5]])\n",
    "\n",
    "#list has 11 funciton array has 100-200 functions \n",
    "# better\n",
=======
    "x = np.array([\n",
    "    [1, 2, 3],\n",
    "    [3, 4, 5]\n",
    "])\n",
>>>>>>> 85a4da63c9b54f19ef7418dfd9f7f6b558dbdde6
    "print(x)\n",
    "print(type(x))\n",
    "print(x.shape)"
   ]
  },
  {
   "cell_type": "code",
   "execution_count": null,
   "metadata": {},
   "outputs": [],
   "source": [
    "print(x.sum())\n",
<<<<<<< HEAD
    "print(x.sum(axis=0))  #sum of each column\n",
=======
    "print(x.sum(axis=0)) # sum of each column\n",
>>>>>>> 85a4da63c9b54f19ef7418dfd9f7f6b558dbdde6
    "print(x.sum(axis=1)) # sum of each row"
   ]
  },
  {
   "cell_type": "code",
   "execution_count": null,
   "metadata": {},
   "outputs": [],
   "source": [
<<<<<<< HEAD
    "a=np.array([1,2,3])#simple 1d matrix\n",
    "b= np.array([[1,1],[2,2],[3,3]]) #2d matrix\n",
    "c=np.array(([[[1,1],[2,2],[3,3]]])) #3d matrix\n",
    "\n",
    "print(a.shape , a.ndim)\n",
    "print(b.shape , b.ndim)\n",
    "print(c.shape , c.ndim)"
=======
    "a = np.array([1, 2, 3]) # simple 1d matrix\n",
    "b = np.array([[1,1],[2,2],[3,3]]) # 2d matrix\n",
    "c = np.array([[[1,1],[2,2],[3,3]]]) # 3d matrix\n",
    "print(a.shape, a.ndim)\n",
    "print(b.shape, b.ndim)\n",
    "print(c.shape, c.ndim)"
>>>>>>> 85a4da63c9b54f19ef7418dfd9f7f6b558dbdde6
   ]
  },
  {
   "cell_type": "markdown",
   "metadata": {},
   "source": [
<<<<<<< HEAD
    "# Matrix creation \n",
    "- sequential\n",
    "  - arange #advanced range\n",
    "  - linspace  # linear spacing   utte scale ko linearly equally baaten  barabar barabar , upto kitte points wo specify kr skte h \n",
    "\n",
    "- random\n",
    "  - rand\n",
    "  - randint\n",
    "  - uniform"
   ]
  },
  {
   "cell_type": "markdown",
   "metadata": {},
   "source": [
    "to create an array \n",
    "# v \n"
=======
    "# matrix creation\n",
    "- sequential\n",
    "    - arange\n",
    "    - linspace\n",
    "- random\n",
    "    - rand\n",
    "    - randint\n",
    "    - uniform"
>>>>>>> 85a4da63c9b54f19ef7418dfd9f7f6b558dbdde6
   ]
  },
  {
   "cell_type": "code",
   "execution_count": null,
   "metadata": {},
   "outputs": [],
   "source": [
<<<<<<< HEAD
    "x= np.arange(1,11,.5) #start , end ,step  #range wali values print ni hoti , i.e. 1 and 11 not included in output\n",
    "print(x)\n",
    "\n",
    "y=np.linspace(1,11,20) #start, end , number of points\n",
    "print(y)\n",
    "\n",
    "z=np.linspace(0,10,6) # range ki values print hoti h i.e. 0 and 10 also included in output\n",
    "print (z)"
   ]
  },
  {
   "cell_type": "code",
   "execution_count": null,
   "metadata": {},
   "outputs": [],
   "source": [
    "np.arange(1,11,.5).reshape(4,5) #arrange these values in 4x5 matrix\n",
    "\n"
=======
    "x = np.arange(1, 11, .5) # start, end, step\n",
    "print(x)\n",
    "y = np.linspace(0, 10,6) # start, end, number of points \n",
    "print(y)"
>>>>>>> 85a4da63c9b54f19ef7418dfd9f7f6b558dbdde6
   ]
  },
  {
   "cell_type": "code",
   "execution_count": null,
   "metadata": {},
   "outputs": [],
   "source": [
<<<<<<< HEAD
    "np.arange(1,11,.5).reshape(5,5) #arrange these values in 5x5 matrix\n"
=======
    "np.arange(1, 11, .5).reshape(5,4) # reshape to 4x5 matrix"
>>>>>>> 85a4da63c9b54f19ef7418dfd9f7f6b558dbdde6
   ]
  },
  {
   "cell_type": "code",
   "execution_count": null,
   "metadata": {},
   "outputs": [],
   "source": [
<<<<<<< HEAD
    "np.arange(1,11,.5).reshape(5,4) #arrange these values in 5x4 matrix\n"
=======
    "np.arange(-3.14,3.14, .2).reshape(8,4)"
>>>>>>> 85a4da63c9b54f19ef7418dfd9f7f6b558dbdde6
   ]
  },
  {
   "cell_type": "code",
   "execution_count": null,
   "metadata": {},
   "outputs": [],
   "source": [
<<<<<<< HEAD
    "np.arange(-3.14,3.14,.2).reshape(8,4)"
=======
    "x1 = np.array([[1,2,3], [4, 5, 6]])\n",
    "x2 = np.array([[4, 2, 3], [2, 6, 6]])"
>>>>>>> 85a4da63c9b54f19ef7418dfd9f7f6b558dbdde6
   ]
  },
  {
   "cell_type": "code",
   "execution_count": null,
   "metadata": {},
   "outputs": [],
<<<<<<< HEAD
   "source": [
    "x1=np.array([[1,2,3],[4,5,6]])\n",
    "x2=np.array([[4,2,3],[2,6,6]])"
   ]
=======
   "source": []
>>>>>>> 85a4da63c9b54f19ef7418dfd9f7f6b558dbdde6
  },
  {
   "cell_type": "code",
   "execution_count": null,
   "metadata": {},
   "outputs": [],
   "source": [
    "print(x1)\n",
    "print(x2)\n",
<<<<<<< HEAD
    "print(x1+x2)\n",
    "print(x1-x2)\n",
    "print(x1*x2)\n",
    "print(x1/x2)\n",
    "print(x1**x2)\n",
    "print(x1//x2)\n",
    "print(x1%x2)\n",
    "#comparsion in numpy results in boolean array\n",
    "print(x1>x2)\n",
    "print(x1<x2)\n",
    "print(x1>=x2)\n",
    "print(x1<=x2)"
   ]
  },
  {
   "cell_type": "markdown",
   "metadata": {},
   "source": [
    "generate random data"
=======
    "print(x1 + x2)\n",
    "print(x1 - x2)\n",
    "print(x1 * x2)\n",
    "print(x1 / x2)\n",
    "print(x1 // x2)\n",
    "print(x1 % x2)\n",
    "print(x1 ** x2)\n",
    "# comparison in numpy results in boolean array\n",
    "print(x1 > x2)\n",
    "print(x1 < x2)\n",
    "print(x1 >= x2)\n",
    "print(x1 <= x2)"
>>>>>>> 85a4da63c9b54f19ef7418dfd9f7f6b558dbdde6
   ]
  },
  {
   "cell_type": "code",
   "execution_count": null,
   "metadata": {},
   "outputs": [],
   "source": [
<<<<<<< HEAD
    "a= np.random.rand(3,1)\n",
=======
    "a = np.random.rand(3,2)\n",
>>>>>>> 85a4da63c9b54f19ef7418dfd9f7f6b558dbdde6
    "a"
   ]
  },
  {
   "cell_type": "code",
   "execution_count": null,
   "metadata": {},
   "outputs": [],
   "source": [
    "np.set_printoptions(precision=2)"
   ]
  },
  {
   "cell_type": "code",
   "execution_count": null,
   "metadata": {},
   "outputs": [],
   "source": [
<<<<<<< HEAD
    "a= np.random.rand(3,1)\n",
    "a"
   ]
  },
  {
   "cell_type": "code",
   "execution_count": null,
   "metadata": {},
   "outputs": [],
   "source": [
    "b = np.random.randint(0,10,(3,3))\n",
    "b\n"
=======
    "b = np.random.randint(0, 10, (3, 3))\n",
    "b"
>>>>>>> 85a4da63c9b54f19ef7418dfd9f7f6b558dbdde6
   ]
  },
  {
   "cell_type": "code",
   "execution_count": null,
   "metadata": {},
   "outputs": [],
   "source": [
<<<<<<< HEAD
    "c=np.random.uniform(0,10,(3,3)) #\n",
    "c\n"
=======
    "c = np.random.uniform(0, 10, (5,5))\n",
    "c"
>>>>>>> 85a4da63c9b54f19ef7418dfd9f7f6b558dbdde6
   ]
  },
  {
   "cell_type": "markdown",
   "metadata": {},
   "source": [
<<<<<<< HEAD
    "# Matrix slicing"
=======
    "# slicing"
>>>>>>> 85a4da63c9b54f19ef7418dfd9f7f6b558dbdde6
   ]
  },
  {
   "cell_type": "code",
<<<<<<< HEAD
   "execution_count": 3,
   "metadata": {},
   "outputs": [
    {
     "name": "stdout",
     "output_type": "stream",
     "text": [
      "[ 1  4 17  3 18 18  9 12  3 19 13  4 19 18 16]\n"
     ]
    }
   ],
   "source": [
    "x=np.random.randint(0,20,15)\n",
=======
   "execution_count": null,
   "metadata": {},
   "outputs": [],
   "source": [
    "x = np.random.randint(0, 20, 15)\n",
>>>>>>> 85a4da63c9b54f19ef7418dfd9f7f6b558dbdde6
    "print(x)"
   ]
  },
  {
   "cell_type": "code",
<<<<<<< HEAD
   "execution_count": 4,
   "metadata": {},
   "outputs": [
    {
     "name": "stdout",
     "output_type": "stream",
     "text": [
      "[ 1  4 17  3 18]\n",
      "[18  9 12  3 19 13  4 19 18 16]\n",
      "[13  4 19 18 16]\n"
     ]
    }
   ],
   "source": [
    "print(x[:5])#first5 elements\n",
    "print(x[5:]) #elements after index 5\n",
    "print(x[-5:])#last 5 elements"
   ]
  },
  {
   "cell_type": "markdown",
   "metadata": {},
   "source": [
    "indexes can be negative the index 5=-1,4=-2...and so on"
=======
   "execution_count": null,
   "metadata": {},
   "outputs": [],
   "source": [
    "print(x[:5]) # first 5 elements\n",
    "print(x[5:]) # elements after index 5\n",
    "print(x[-5:]) # last 5 elements"
>>>>>>> 85a4da63c9b54f19ef7418dfd9f7f6b558dbdde6
   ]
  },
  {
   "cell_type": "code",
<<<<<<< HEAD
   "execution_count": 7,
   "metadata": {},
   "outputs": [
    {
     "name": "stdout",
     "output_type": "stream",
     "text": [
      "[[13  4 12 17  6  2]\n",
      " [12 17 10 12 19  7]\n",
      " [10 15 19 10  4  2]\n",
      " [ 1 16  6  8 15  7]\n",
      " [14 15 13 15  6 18]\n",
      " [ 8 11 10  0  9 13]]\n"
     ]
    }
   ],
   "source": [
    "z=np.random.randint(0,20,(6,6))\n",
=======
   "execution_count": null,
   "metadata": {},
   "outputs": [],
   "source": [
    "z = np.random.randint(0, 20, (6,6))\n",
>>>>>>> 85a4da63c9b54f19ef7418dfd9f7f6b558dbdde6
    "print(z)"
   ]
  },
  {
<<<<<<< HEAD
   "cell_type": "markdown",
   "metadata": {},
   "source": [
    "```\n",
    "Syntax : arr[row start:row end , col start:col end]\n",
    "```"
   ]
  },
  {
   "cell_type": "code",
   "execution_count": 9,
   "metadata": {},
   "outputs": [
    {
     "name": "stdout",
     "output_type": "stream",
     "text": [
      "row[0] => [13  4 12 17  6  2]\n",
      "row[2,3,4]=>\n",
      " [[10 15 19 10  4  2]\n",
      " [ 1 16  6  8 15  7]\n",
      " [14 15 13 15  6 18]]\n",
      "first element => 13\n",
      "last element  => 13\n",
      "first row,last element=> 2\n"
     ]
    }
   ],
   "source": [
    "print('row[0] =>',z[0])\n",
    "print('row[2,3,4]=>\\n',z[2:5])\n",
    "print('first element =>',z[0,0])\n",
    "print('last element  =>',z[-1,-1])\n",
    "print('first row,last element=>',z[0,-1])"
=======
   "cell_type": "code",
   "execution_count": null,
   "metadata": {},
   "outputs": [],
   "source": [
    "print('row[0] =>', z[0])\n",
    "print('row[2,3,4] =>\\n', z[2:5])\n",
    "print('first element =>', z[0,0])\n",
    "print('last element =>', z[-1,-1])\n",
    "print('first row, last element =>', z[0, -1])"
>>>>>>> 85a4da63c9b54f19ef7418dfd9f7f6b558dbdde6
   ]
  },
  {
   "cell_type": "code",
<<<<<<< HEAD
   "execution_count": 10,
   "metadata": {},
   "outputs": [
    {
     "name": "stdout",
     "output_type": "stream",
     "text": [
      "col 1=>  [13 12 10  1 14  8]\n",
      "col 5=> [ 6 19  4 15  6  9]\n",
      "col last => [ 2  7  2  7 18 13]\n",
      "col 1 2 3 => [[13  4 12 17]\n",
      " [12 17 10 12]\n",
      " [10 15 19 10]\n",
      " [ 1 16  6  8]\n",
      " [14 15 13 15]\n",
      " [ 8 11 10  0]]\n",
      "row 1,2 col 1,2=>\n",
      " [[13  4]\n",
      " [12 17]]\n"
     ]
    }
   ],
   "source": [
    "print(\"col 1=> \",z[:,0])\n",
    "print(\"col 5=>\",z[:,4])\n",
    "print(\"col last =>\",z[:,-1])\n",
    "print(\"col 1 ,2, 3 =>\", z[:,:4])\n",
    "print(\"row 1,2 col 1,2=>\\n\", z[:2,:2])"
=======
   "execution_count": null,
   "metadata": {},
   "outputs": [],
   "source": [
    "print(\"col 1 =>\", z[:, 0])\n",
    "print(\"col 5 =>\", z[:, 4])\n",
    "print(\"col last =>\", z[:, -1])\n",
    "print(\"col 1,2,3 =>\\n\", z[:, :4])\n",
    "print(\"row 1,2 col 1,2 =>\\n\", z[:2, :2])"
>>>>>>> 85a4da63c9b54f19ef7418dfd9f7f6b558dbdde6
   ]
  },
  {
   "cell_type": "markdown",
   "metadata": {},
   "source": [
<<<<<<< HEAD
    "### Maths - Algebra, Statistics, Trignometry"
=======
    "### maths - statistics, trigonometry"
>>>>>>> 85a4da63c9b54f19ef7418dfd9f7f6b558dbdde6
   ]
  },
  {
   "cell_type": "code",
<<<<<<< HEAD
   "execution_count": 11,
   "metadata": {},
   "outputs": [
    {
     "name": "stdout",
     "output_type": "stream",
     "text": [
      "[[12 18  2 12 12 18]\n",
      " [10  4 13 12 10 10]]\n"
     ]
    }
   ],
   "source": [
    "x=np.random.randint(0,20,(2,6))\n",
=======
   "execution_count": null,
   "metadata": {},
   "outputs": [],
   "source": [
    "x = np.random.randint(0, 20, (2, 6))\n",
>>>>>>> 85a4da63c9b54f19ef7418dfd9f7f6b558dbdde6
    "print(x)"
   ]
  },
  {
   "cell_type": "code",
<<<<<<< HEAD
   "execution_count": 14,
   "metadata": {},
   "outputs": [
    {
     "name": "stdout",
     "output_type": "stream",
     "text": [
      "11.083333333333334\n",
      "[12.33333333  9.83333333]\n",
      "[11.  11.   7.5 12.  11.  14. ]\n",
      "[5.34373985 2.85287379]\n",
      "[1.  7.  5.5 0.  1.  4. ]\n",
      "133\n",
      "2\n",
      "18\n",
      "19.90972222222222\n",
      "12.0\n"
     ]
    }
   ],
   "source": [
    "print(x.mean()) #mean of all elements\n",
    "print(x.mean(axis=1))  #mean of each row\n",
    "print(x.mean(axis=0)) #mean of each column\n",
    "print(x.std(axis=1))# standard deviation of each row\n",
    "print(x.std(axis=0))# standard deviation of each col\n",
    "print(x.sum())  #functionn\n",
    "print(x.min())\n",
    "print(x.max())\n",
    "print(x.var())\n",
    "print(np.median(x))# method (some are not available as a functionn)\n"
=======
   "execution_count": null,
   "metadata": {},
   "outputs": [],
   "source": [
    "print(x.mean()) # mean of all elements\n",
    "print(x.mean(axis=1)) # mean of each row\n",
    "print(x.mean(axis=0)) # mean of each column\n",
    "print(x.std()) # standard deviation of all elements\n",
    "print(x.std(axis=1)) # standard deviation of each row\n",
    "print(x.std(axis=0)) # standard deviation of each column\n",
    "print(x.sum())\n",
    "print(x.min())\n",
    "print(x.max())\n",
    "print(x.var())\n",
    "print(np.median(x))"
>>>>>>> 85a4da63c9b54f19ef7418dfd9f7f6b558dbdde6
   ]
  },
  {
   "cell_type": "code",
<<<<<<< HEAD
   "execution_count": 16,
   "metadata": {},
   "outputs": [
    {
     "name": "stdout",
     "output_type": "stream",
     "text": [
      "[[-0.53657292 -0.75098725  0.90929743 -0.53657292 -0.53657292 -0.75098725]\n",
      " [-0.54402111 -0.7568025   0.42016704 -0.53657292 -0.54402111 -0.54402111]]\n",
      "[[ 0.84385396  0.66031671 -0.41614684  0.84385396  0.84385396  0.66031671]\n",
      " [-0.83907153 -0.65364362  0.90744678  0.84385396 -0.83907153 -0.83907153]]\n",
      "[[-0.63585993 -1.13731371 -2.18503986 -0.63585993 -0.63585993 -1.13731371]\n",
      " [ 0.64836083  1.15782128  0.46302113 -0.63585993  0.64836083  0.64836083]]\n"
     ]
    }
   ],
   "source": [
    "print(np.sin(x))\n",
    "print(np.cos(x))\n",
    "print(np.tan(x))\n",
    "\n"
=======
   "execution_count": null,
   "metadata": {},
   "outputs": [],
   "source": [
    "print(np.sin(x))\n",
    "print(np.cos(x))\n",
    "print(np.tan(x))"
>>>>>>> 85a4da63c9b54f19ef7418dfd9f7f6b558dbdde6
   ]
  },
  {
   "cell_type": "code",
<<<<<<< HEAD
   "execution_count": 18,
   "metadata": {},
   "outputs": [
    {
     "name": "stdout",
     "output_type": "stream",
     "text": [
      "[[9 4 6]\n",
      " [5 2 0]\n",
      " [2 4 8]]\n",
      "[[ 0  2  6]\n",
      " [19  4  2]\n",
      " [15  3  7]]\n",
      "[[ 0  8 36]\n",
      " [95  8  0]\n",
      " [30 12 56]]\n",
      "[[166  52 104]\n",
      " [ 38  18  34]\n",
      " [196  44  76]]\n",
      "[[166  52 104]\n",
      " [ 38  18  34]\n",
      " [196  44  76]]\n"
     ]
    }
   ],
   "source": [
    "x= np.random.randint(0,10,(3,3))\n",
    "y=np.random.randint(0,20,(3,3))\n",
    "print(x)\n",
    "print(y)\n",
    "print(x*y) #elementwise multiplication\n",
    "print(x@y)#matrix multiplication\n",
    "print(x.dot(y)) #matrix multiplcation"
=======
   "execution_count": null,
   "metadata": {},
   "outputs": [],
   "source": [
    "x = np.random.randint(0, 10, (3,3))\n",
    "y = np.random.randint(0, 20, (3,3))\n",
    "print(x)\n",
    "print(y)\n",
    "print(x*y) # element wise multiplication\n",
    "print(x @ y) # matrix multiplication\n",
    "print(x.dot(y)) # matrix multiplication"
>>>>>>> 85a4da63c9b54f19ef7418dfd9f7f6b558dbdde6
   ]
  },
  {
   "cell_type": "markdown",
   "metadata": {},
   "source": [
<<<<<<< HEAD
    "### Some Utilities"
=======
    "### some utilities"
>>>>>>> 85a4da63c9b54f19ef7418dfd9f7f6b558dbdde6
   ]
  },
  {
   "cell_type": "code",
<<<<<<< HEAD
   "execution_count": 19,
   "metadata": {},
   "outputs": [
    {
     "name": "stdout",
     "output_type": "stream",
     "text": [
      "[[ 4  4 16 18 16 13]\n",
      " [18  9 11 10  6  4]]\n",
      "[[ 4 18]\n",
      " [ 4  9]\n",
      " [16 11]\n",
      " [18 10]\n",
      " [16  6]\n",
      " [13  4]]\n"
     ]
    }
   ],
   "source": [
    "x=np.random.randint(0,20,(2,6))\n",
    "print(x)\n",
    "print(x.T) #transpose\n"
   ]
  },
  {
   "cell_type": "code",
   "execution_count": 22,
   "metadata": {},
   "outputs": [
    {
     "name": "stdout",
     "output_type": "stream",
     "text": [
      "[[ 4  4 16 18]\n",
      " [16 13 18  9]\n",
      " [11 10  6  4]]\n"
     ]
    }
   ],
   "source": [
    "print(x.reshape(3,4))"
=======
   "execution_count": null,
   "metadata": {},
   "outputs": [],
   "source": [
    "x = np.random.randint(0, 20, (2, 6))\n",
    "print(x)\n",
    "\n",
    "print(x.T) # transpose"
>>>>>>> 85a4da63c9b54f19ef7418dfd9f7f6b558dbdde6
   ]
  },
  {
   "cell_type": "code",
<<<<<<< HEAD
   "execution_count": 24,
   "metadata": {},
   "outputs": [
    {
     "name": "stdout",
     "output_type": "stream",
     "text": [
      "None\n"
     ]
    },
    {
     "data": {
      "text/plain": [
       "array([[ 4,  4],\n",
       "       [16, 18],\n",
       "       [16, 13]])"
      ]
     },
     "execution_count": 24,
     "metadata": {},
     "output_type": "execute_result"
    }
   ],
   "source": [
    "print (x.resize(3,2))\n",
    "#object changed in real object\n",
    "x"
=======
   "execution_count": null,
   "metadata": {},
   "outputs": [],
   "source": [
    "x.reshape(3,4)"
>>>>>>> 85a4da63c9b54f19ef7418dfd9f7f6b558dbdde6
   ]
  },
  {
   "cell_type": "code",
<<<<<<< HEAD
   "execution_count": 25,
   "metadata": {},
   "outputs": [],
   "source": [
    "#try\n",
    "x.resize(2,3, refcheck=False)"
=======
   "execution_count": null,
   "metadata": {},
   "outputs": [],
   "source": [
    "x.resize(10,3, refcheck=False)\n",
    "x"
>>>>>>> 85a4da63c9b54f19ef7418dfd9f7f6b558dbdde6
   ]
  },
  {
   "cell_type": "markdown",
   "metadata": {},
   "source": [
<<<<<<< HEAD
    "# Data Visualization"
=======
    "### data visualization"
>>>>>>> 85a4da63c9b54f19ef7418dfd9f7f6b558dbdde6
   ]
  },
  {
   "cell_type": "code",
<<<<<<< HEAD
   "execution_count": 27,
=======
   "execution_count": null,
>>>>>>> 85a4da63c9b54f19ef7418dfd9f7f6b558dbdde6
   "metadata": {},
   "outputs": [],
   "source": [
    "import matplotlib.pyplot as plt"
   ]
  },
  {
   "cell_type": "code",
<<<<<<< HEAD
   "execution_count": 34,
   "metadata": {},
   "outputs": [
    {
     "data": {
      "text/plain": [
       "[<matplotlib.lines.Line2D at 0x183a5a595d0>]"
      ]
     },
     "execution_count": 34,
     "metadata": {},
     "output_type": "execute_result"
    },
    {
     "data": {
      "image/png": "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",
      "text/plain": [
       "<Figure size 640x480 with 1 Axes>"
      ]
     },
     "metadata": {},
     "output_type": "display_data"
    }
   ],
   "source": [
    "t=np.arange (0,3*np.pi,.1)\n",
    "x=np.sin(t)\n",
    "y=np.cos(t)\n",
    "plt.plot(t,x,'go:')\n",
    "plt.plot(t,y,'go:')\n"
=======
   "execution_count": null,
   "metadata": {},
   "outputs": [],
   "source": [
    "t = np.arange(0, 3*np.pi, .1)\n",
    "x = np.sin(t)\n",
    "y = np.cos(t)\n",
    "plt.plot(t, x, 'go:')"
>>>>>>> 85a4da63c9b54f19ef7418dfd9f7f6b558dbdde6
   ]
  },
  {
   "cell_type": "code",
<<<<<<< HEAD
   "execution_count": 38,
   "metadata": {},
   "outputs": [
    {
     "data": {
      "image/png": "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",
      "text/plain": [
       "<Figure size 640x480 with 1 Axes>"
      ]
     },
     "metadata": {},
     "output_type": "display_data"
    }
   ],
   "source": [
    "plt.plot(t,y,'go:',t,y,'go', label='cos[t]')\n",
    "plt.plot(t,x,'rx',label='sin[t]')\n",
=======
   "execution_count": null,
   "metadata": {},
   "outputs": [],
   "source": [
    "plt.plot(t, y, 'go:', label='cos(t)')\n",
    "plt.plot(t, x, 'rx', label='sin(t)')\n",
>>>>>>> 85a4da63c9b54f19ef7418dfd9f7f6b558dbdde6
    "plt.legend()\n",
    "plt.grid()"
   ]
  },
  {
   "cell_type": "code",
<<<<<<< HEAD
   "execution_count": 35,
=======
   "execution_count": 116,
>>>>>>> 85a4da63c9b54f19ef7418dfd9f7f6b558dbdde6
   "metadata": {},
   "outputs": [
    {
     "data": {
<<<<<<< HEAD
      "image/png": "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",
      "text/plain": [
       "<Figure size 640x480 with 1 Axes>"
      ]
     },
     "metadata": {},
=======
      "image/png": "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",
      "text/plain": [
       "<Figure size 432x288 with 1 Axes>"
      ]
     },
     "metadata": {
      "needs_background": "light"
     },
>>>>>>> 85a4da63c9b54f19ef7418dfd9f7f6b558dbdde6
     "output_type": "display_data"
    }
   ],
   "source": [
<<<<<<< HEAD
    "d=np.random.randn(1000)\n",
    "plt.hist(d,bins=list(range(-3,4)))\n",
    "plt.show()\n"
   ]
  },
  {
   "cell_type": "markdown",
   "metadata": {},
   "source": [
    "above shows \n",
    "data shows skewness\n"
=======
    "d = np.random.randn(1000)\n",
    "plt.hist(d, bins=50)\n",
    "plt.show()"
>>>>>>> 85a4da63c9b54f19ef7418dfd9f7f6b558dbdde6
   ]
  },
  {
   "cell_type": "code",
<<<<<<< HEAD
   "execution_count": 37,
=======
   "execution_count": 118,
>>>>>>> 85a4da63c9b54f19ef7418dfd9f7f6b558dbdde6
   "metadata": {},
   "outputs": [
    {
     "data": {
<<<<<<< HEAD
      "image/png": "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",
      "text/plain": [
       "<Figure size 640x480 with 1 Axes>"
      ]
     },
     "metadata": {},
=======
      "image/png": "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",
      "text/plain": [
       "<Figure size 432x288 with 1 Axes>"
      ]
     },
     "metadata": {
      "needs_background": "light"
     },
>>>>>>> 85a4da63c9b54f19ef7418dfd9f7f6b558dbdde6
     "output_type": "display_data"
    }
   ],
   "source": [
    "plt.boxplot(x)\n",
    "plt.show()"
   ]
  },
  {
   "cell_type": "code",
   "execution_count": null,
   "metadata": {},
   "outputs": [],
   "source": []
  }
 ],
 "metadata": {
  "kernelspec": {
   "display_name": "base",
   "language": "python",
   "name": "python3"
  },
  "language_info": {
   "codemirror_mode": {
    "name": "ipython",
    "version": 3
   },
   "file_extension": ".py",
   "mimetype": "text/x-python",
   "name": "python",
   "nbconvert_exporter": "python",
   "pygments_lexer": "ipython3",
<<<<<<< HEAD
   "version": "3.11.4"
=======
   "version": "3.11.5"
>>>>>>> 85a4da63c9b54f19ef7418dfd9f7f6b558dbdde6
  }
 },
 "nbformat": 4,
 "nbformat_minor": 2
}
