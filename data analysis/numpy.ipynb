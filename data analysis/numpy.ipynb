{
 "cells": [
  {
   "cell_type": "markdown",
   "metadata": {},
   "source": [
    "# Data Analysis \n",
    "- helps in analysing data and finding a usefull output\n",
    "- numpy gives basic libraries for data analysis \n",
    "\n",
    "# Numpy\n",
    "\n",
    "`without numpy doing maths(matrix maths) is very complex in any language`\n",
    "- create array\n",
    "- maths\n",
    "- operations\n"
   ]
  },
  {
   "cell_type": "code",
   "execution_count": null,
   "metadata": {},
   "outputs": [],
   "source": [
    "x = [[1,2,3],[3,2,1]]\n",
    "sums=0\n",
    "for i in x:\n",
    "    for j in i:\n",
    "        sums+=j\n",
    "\n",
    "print(sums)\n",
    "\n",
    "print(x)"
   ]
  },
  {
   "cell_type": "code",
   "execution_count": null,
   "metadata": {},
   "outputs": [],
   "source": [
    "import numpy as np"
   ]
  },
  {
   "cell_type": "code",
   "execution_count": null,
   "metadata": {},
   "outputs": [],
   "source": [
    "x=np.array([[1,2,3],[3,4,5]])\n",
    "\n",
    "#list has 11 funciton array has 100-200 functions \n",
    "# better\n",
    "print(x)\n",
    "print(type(x))\n",
    "print(x.shape)"
   ]
  },
  {
   "cell_type": "code",
   "execution_count": null,
   "metadata": {},
   "outputs": [],
   "source": [
    "print(x.sum())\n",
    "print(x.sum(axis=0))  #sum of each column\n",
    "print(x.sum(axis=1)) # sum of each row"
   ]
  },
  {
   "cell_type": "code",
   "execution_count": 7,
   "metadata": {},
   "outputs": [
    {
     "name": "stdout",
     "output_type": "stream",
     "text": [
      "(3,) 1\n",
      "(3, 2) 2\n",
      "(1, 3, 2) 3\n"
     ]
    }
   ],
   "source": [
    "a=np.array([1,2,3])#simple 1d matrix\n",
    "b= np.array([[1,1],[2,2],[3,3]]) #2d matrix\n",
    "c=np.array(([[[1,1],[2,2],[3,3]]])) #3d matrix\n",
    "\n",
    "print(a.shape , a.ndim)\n",
    "print(b.shape , b.ndim)\n",
    "print(c.shape , c.ndim)"
   ]
  },
  {
   "cell_type": "markdown",
   "metadata": {},
   "source": [
    "# Matrix creation \n",
    "- sequential\n",
    "  - arange #advanced range\n",
    "  - linspace  # linear spacing   utte scale ko linearly equally baaten  barabar barabar , upto kitte points wo specify kr skte h \n",
    "\n",
    "- random\n",
    "  - rand\n",
    "  - randint\n",
    "  - uniform"
   ]
  },
  {
   "cell_type": "markdown",
   "metadata": {},
   "source": [
    "to create an array \n",
    "# v \n"
   ]
  },
  {
   "cell_type": "code",
   "execution_count": 12,
   "metadata": {},
   "outputs": [
    {
     "name": "stdout",
     "output_type": "stream",
     "text": [
      "[ 1.   1.5  2.   2.5  3.   3.5  4.   4.5  5.   5.5  6.   6.5  7.   7.5\n",
      "  8.   8.5  9.   9.5 10.  10.5]\n",
      "[ 1.          1.52631579  2.05263158  2.57894737  3.10526316  3.63157895\n",
      "  4.15789474  4.68421053  5.21052632  5.73684211  6.26315789  6.78947368\n",
      "  7.31578947  7.84210526  8.36842105  8.89473684  9.42105263  9.94736842\n",
      " 10.47368421 11.        ]\n",
      "[ 0.  2.  4.  6.  8. 10.]\n"
     ]
    }
   ],
   "source": [
    "x= np.arange(1,11,.5) #start , end ,step  #range wali values print ni hoti , i.e. 1 and 11 not included in output\n",
    "print(x)\n",
    "\n",
    "y=np.linspace(1,11,20) #start, end , number of points\n",
    "print(y)\n",
    "\n",
    "z=np.linspace(0,10,6) # range ki values print hoti h i.e. 0 and 10 also included in output\n",
    "print (z)"
   ]
  },
  {
   "cell_type": "code",
   "execution_count": 13,
   "metadata": {},
   "outputs": [
    {
     "data": {
      "text/plain": [
       "array([[ 1. ,  1.5,  2. ,  2.5],\n",
       "       [ 3. ,  3.5,  4. ,  4.5],\n",
       "       [ 5. ,  5.5,  6. ,  6.5],\n",
       "       [ 7. ,  7.5,  8. ,  8.5],\n",
       "       [ 9. ,  9.5, 10. , 10.5]])"
      ]
     },
     "execution_count": 13,
     "metadata": {},
     "output_type": "execute_result"
    }
   ],
   "source": [
    "np.arange(1,11,.5).reshape(4,5) #arrange these values in 4x5 matrix\n",
    "\n"
   ]
  },
  {
   "cell_type": "code",
   "execution_count": 14,
   "metadata": {},
   "outputs": [
    {
     "ename": "ValueError",
     "evalue": "cannot reshape array of size 20 into shape (5,5)",
     "output_type": "error",
     "traceback": [
      "\u001b[1;31m---------------------------------------------------------------------------\u001b[0m",
      "\u001b[1;31mValueError\u001b[0m                                Traceback (most recent call last)",
      "\u001b[1;32mc:\\Users\\dell\\Desktop\\personal_work\\digipodium\\2023-SEP-PY-DS-DA-MTWF-200\\data analysis\\numpy.ipynb Cell 11\u001b[0m line \u001b[0;36m1\n\u001b[1;32m----> <a href='vscode-notebook-cell:/c%3A/Users/dell/Desktop/personal_work/digipodium/2023-SEP-PY-DS-DA-MTWF-200/data%20analysis/numpy.ipynb#X13sZmlsZQ%3D%3D?line=0'>1</a>\u001b[0m np\u001b[39m.\u001b[39marange(\u001b[39m1\u001b[39m,\u001b[39m11\u001b[39m,\u001b[39m.5\u001b[39m)\u001b[39m.\u001b[39mreshape(\u001b[39m5\u001b[39m,\u001b[39m5\u001b[39m)\n",
      "\u001b[1;31mValueError\u001b[0m: cannot reshape array of size 20 into shape (5,5)"
     ]
    }
   ],
   "source": [
    "np.arange(1,11,.5).reshape(5,5) #arrange these values in 5x5 matrix\n"
   ]
  },
  {
   "cell_type": "code",
   "execution_count": 15,
   "metadata": {},
   "outputs": [
    {
     "data": {
      "text/plain": [
       "array([[ 1. ,  1.5,  2. ,  2.5],\n",
       "       [ 3. ,  3.5,  4. ,  4.5],\n",
       "       [ 5. ,  5.5,  6. ,  6.5],\n",
       "       [ 7. ,  7.5,  8. ,  8.5],\n",
       "       [ 9. ,  9.5, 10. , 10.5]])"
      ]
     },
     "execution_count": 15,
     "metadata": {},
     "output_type": "execute_result"
    }
   ],
   "source": [
    "np.arange(1,11,.5).reshape(5,4) #arrange these values in 5x4 matrix\n"
   ]
  },
  {
   "cell_type": "code",
   "execution_count": 16,
   "metadata": {},
   "outputs": [
    {
     "data": {
      "text/plain": [
       "array([[-3.14, -2.94, -2.74, -2.54],\n",
       "       [-2.34, -2.14, -1.94, -1.74],\n",
       "       [-1.54, -1.34, -1.14, -0.94],\n",
       "       [-0.74, -0.54, -0.34, -0.14],\n",
       "       [ 0.06,  0.26,  0.46,  0.66],\n",
       "       [ 0.86,  1.06,  1.26,  1.46],\n",
       "       [ 1.66,  1.86,  2.06,  2.26],\n",
       "       [ 2.46,  2.66,  2.86,  3.06]])"
      ]
     },
     "execution_count": 16,
     "metadata": {},
     "output_type": "execute_result"
    }
   ],
   "source": [
    "np.arange(-3.14,3.14,.2).reshape(8,4)"
   ]
  },
  {
   "cell_type": "code",
   "execution_count": 17,
   "metadata": {},
   "outputs": [],
   "source": [
    "x1=np.array([[1,2,3],[4,5,6]])\n",
    "x2=np.array([[4,2,3],[2,6,6]])"
   ]
  },
  {
   "cell_type": "code",
   "execution_count": 20,
   "metadata": {},
   "outputs": [
    {
     "name": "stdout",
     "output_type": "stream",
     "text": [
      "[[1 2 3]\n",
      " [4 5 6]]\n",
      "[[4 2 3]\n",
      " [2 6 6]]\n",
      "[[ 5  4  6]\n",
      " [ 6 11 12]]\n",
      "[[-3  0  0]\n",
      " [ 2 -1  0]]\n",
      "[[ 4  4  9]\n",
      " [ 8 30 36]]\n",
      "[[0.25       1.         1.        ]\n",
      " [2.         0.83333333 1.        ]]\n",
      "[[    1     4    27]\n",
      " [   16 15625 46656]]\n",
      "[[0 1 1]\n",
      " [2 0 1]]\n",
      "[[1 0 0]\n",
      " [0 5 0]]\n",
      "[[False False False]\n",
      " [ True False False]]\n",
      "[[ True False False]\n",
      " [False  True False]]\n",
      "[[False  True  True]\n",
      " [ True False  True]]\n",
      "[[ True  True  True]\n",
      " [False  True  True]]\n"
     ]
    }
   ],
   "source": [
    "print(x1)\n",
    "print(x2)\n",
    "print(x1+x2)\n",
    "print(x1-x2)\n",
    "print(x1*x2)\n",
    "print(x1/x2)\n",
    "print(x1**x2)\n",
    "print(x1//x2)\n",
    "print(x1%x2)\n",
    "#comparsion in numpy results in boolean array\n",
    "print(x1>x2)\n",
    "print(x1<x2)\n",
    "print(x1>=x2)\n",
    "print(x1<=x2)"
   ]
  },
  {
   "cell_type": "markdown",
   "metadata": {},
   "source": [
    "generate random data"
   ]
  },
  {
   "cell_type": "code",
   "execution_count": 24,
   "metadata": {},
   "outputs": [
    {
     "data": {
      "text/plain": [
       "array([[0.37720941],\n",
       "       [0.44976629],\n",
       "       [0.05241094]])"
      ]
     },
     "execution_count": 24,
     "metadata": {},
     "output_type": "execute_result"
    }
   ],
   "source": [
    "a= np.random.rand(3,1)\n",
    "a"
   ]
  },
  {
   "cell_type": "code",
   "execution_count": 25,
   "metadata": {},
   "outputs": [],
   "source": [
    "np.set_printoptions(precision=2)"
   ]
  },
  {
   "cell_type": "code",
   "execution_count": 26,
   "metadata": {},
   "outputs": [
    {
     "data": {
      "text/plain": [
       "array([[0.35],\n",
       "       [0.23],\n",
       "       [0.01]])"
      ]
     },
     "execution_count": 26,
     "metadata": {},
     "output_type": "execute_result"
    }
   ],
   "source": [
    "a= np.random.rand(3,1)\n",
    "a"
   ]
  },
  {
   "cell_type": "code",
   "execution_count": 27,
   "metadata": {},
   "outputs": [
    {
     "data": {
      "text/plain": [
       "array([[8, 4, 5],\n",
       "       [0, 7, 6],\n",
       "       [4, 7, 5]])"
      ]
     },
     "execution_count": 27,
     "metadata": {},
     "output_type": "execute_result"
    }
   ],
   "source": [
    "b = np.random.randint(0,10,(3,3))\n",
    "b\n"
   ]
  },
  {
   "cell_type": "code",
   "execution_count": 28,
   "metadata": {},
   "outputs": [
    {
     "data": {
      "text/plain": [
       "array([[8.  , 2.24, 7.24],\n",
       "       [3.11, 4.69, 9.47],\n",
       "       [4.01, 6.03, 8.81]])"
      ]
     },
     "execution_count": 28,
     "metadata": {},
     "output_type": "execute_result"
    }
   ],
   "source": [
    "c=np.random.uniform(0,10,(3,3)) #\n",
    "c\n"
   ]
  },
  {
   "cell_type": "code",
   "execution_count": null,
   "metadata": {},
   "outputs": [],
   "source": []
  }
 ],
 "metadata": {
  "kernelspec": {
   "display_name": "base",
   "language": "python",
   "name": "python3"
  },
  "language_info": {
   "codemirror_mode": {
    "name": "ipython",
    "version": 3
   },
   "file_extension": ".py",
   "mimetype": "text/x-python",
   "name": "python",
   "nbconvert_exporter": "python",
   "pygments_lexer": "ipython3",
   "version": "3.11.4"
  }
 },
 "nbformat": 4,
 "nbformat_minor": 2
}
