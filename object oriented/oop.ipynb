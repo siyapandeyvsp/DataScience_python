{
 "cells": [
  {
   "cell_type": "markdown",
   "metadata": {},
   "source": [
    "What to understand \n",
    "- class\n",
    "- object(instance)\n",
    "- constructor(`__init__`)\n",
    "- isntance method\n",
    "- data class\n",
    "- inheritance\n",
    "    - overriding method\n",
    "    - multiple inheritance\n",
    "- operator overloading "
   ]
  },
  {
   "cell_type": "markdown",
   "metadata": {},
   "source": [
    "# Classes\n",
    "why we need classes?\n",
    "we can group multiple similar functions \n",
    "- Encapsulation "
   ]
  },
  {
   "cell_type": "code",
   "execution_count": 1,
   "metadata": {},
   "outputs": [],
   "source": [
    "class One:\n",
    "    pass  #keyword in python to skip to create valid block i.e. empty block\n"
   ]
  },
  {
   "cell_type": "code",
   "execution_count": 5,
   "metadata": {},
   "outputs": [],
   "source": [
    "class Student:\n",
    "    rollno=0\n",
    "    name=''\n",
    "    klass=0   #these are class properties\n",
    "#student ka instance method h \n",
    "    def display(self):#without writing self not know to which class it belong , just like Java This keyword. to recognize own class \n",
    "        print(\"i am a student \")"
   ]
  },
  {
   "cell_type": "code",
   "execution_count": 3,
   "metadata": {},
   "outputs": [
    {
     "name": "stdout",
     "output_type": "stream",
     "text": [
      "Help on class Student in module __main__:\n",
      "\n",
      "class Student(builtins.object)\n",
      " |  Data descriptors defined here:\n",
      " |  \n",
      " |  __dict__\n",
      " |      dictionary for instance variables (if defined)\n",
      " |  \n",
      " |  __weakref__\n",
      " |      list of weak references to the object (if defined)\n",
      " |  \n",
      " |  ----------------------------------------------------------------------\n",
      " |  Data and other attributes defined here:\n",
      " |  \n",
      " |  klass = 0\n",
      " |  \n",
      " |  name = ''\n",
      " |  \n",
      " |  rollno = 0\n",
      "\n"
     ]
    }
   ],
   "source": [
    "help(Student)"
   ]
  },
  {
   "cell_type": "code",
   "execution_count": 8,
   "metadata": {},
   "outputs": [
    {
     "name": "stdout",
     "output_type": "stream",
     "text": [
      "i am a student \n",
      "i am a student \n"
     ]
    }
   ],
   "source": [
    "#class can be used with help of its object\n",
    "\n",
    "#bad way without constructor\n",
    "s1=Student()\n",
    "\n",
    "s1.name=\"raj\"\n",
    "s1.klass=5\n",
    "s1.rollno=12345\n",
    "s1.display()\n",
    "s2=Student()\n",
    "s2.name=\"raju\"\n",
    "s2.klass=6\n",
    "s2.rollno=92345\n",
    "s2.display()"
   ]
  },
  {
   "cell_type": "code",
   "execution_count": 11,
   "metadata": {},
   "outputs": [],
   "source": [
    "#__method__ is called magic method (dunder method ) special \n",
    " \n",
    "class Bottle:\n",
    "    def __init__(self,material,content,capacity):# this funtion will initialise an object \n",
    "        #self is a requirement to make constructor for current class rest are the parameters to be passd by user\n",
    "        #class properties are written like:\n",
    "        self.material=material  #here whole self.material is a instance varaiale\n",
    "        self.content=content\n",
    "        self.capacity=capacity\n",
    "    def check(self):\n",
    "        print(f' {self.material}bottle with {self.capacity} ml of {self.content}')"
   ]
  },
  {
   "cell_type": "code",
   "execution_count": 12,
   "metadata": {},
   "outputs": [],
   "source": [
    "b1=Bottle(\"plastic\",\"water\" ,1000 )\n",
    "b2=Bottle(\"glass\",\"water\" ,500 )\n",
    "b3=Bottle(\"steel\",\"water\" ,2000 )\n",
    "b4=Bottle(\"glass\",\"red wine\" ,1000 )\n",
    "b4=Bottle(\"glass\",\"beer\" ,1000 )\n"
   ]
  },
  {
   "cell_type": "code",
   "execution_count": 13,
   "metadata": {},
   "outputs": [
    {
     "name": "stdout",
     "output_type": "stream",
     "text": [
      "plastic water 1000\n"
     ]
    }
   ],
   "source": [
    "print(b1.material,b1.content,b1.capacity)"
   ]
  },
  {
   "cell_type": "code",
   "execution_count": 14,
   "metadata": {},
   "outputs": [
    {
     "name": "stdout",
     "output_type": "stream",
     "text": [
      " plasticbottle with 1000 ml of water\n",
      " glassbottle with 500 ml of water\n",
      " steelbottle with 2000 ml of water\n"
     ]
    }
   ],
   "source": [
    "b1.check()\n",
    "b2.check()\n",
    "b3.check()"
   ]
  },
  {
   "cell_type": "code",
   "execution_count": 15,
   "metadata": {},
   "outputs": [
    {
     "name": "stdout",
     "output_type": "stream",
     "text": [
      " glassbottle with 500 ml of Malbac\n"
     ]
    }
   ],
   "source": [
    "b2.content=\"Malbac\"\n",
    "b2.check()"
   ]
  },
  {
   "cell_type": "markdown",
   "metadata": {},
   "source": [
    "python not have access modifiers \n",
    "by default public"
   ]
  },
  {
   "cell_type": "markdown",
   "metadata": {},
   "source": [
    "__ init __ is a constructor \n",
    "__ double underscore is predefined function\n",
    "init is automatically initiaed"
   ]
  },
  {
   "cell_type": "code",
   "execution_count": 1,
   "metadata": {},
   "outputs": [
    {
     "name": "stdout",
     "output_type": "stream",
     "text": [
      "orange\n",
      "nemo\n"
     ]
    }
   ],
   "source": [
    "class Fish:\n",
    "    def __init__(self,name,color,species): #my own property just like THIS in JAva\n",
    "        self.name=name\n",
    "        self.color=color    #here self is working like 'this' assign values to class members \n",
    "        self.species = species\n",
    "\n",
    "f1=Fish('nemo','orange','clown fish')\n",
    "print(f1.color)\n",
    "print(f1.name)"
   ]
  },
  {
   "cell_type": "markdown",
   "metadata": {},
   "source": []
  },
  {
   "cell_type": "markdown",
   "metadata": {},
   "source": [
    "create a class calculator with following method\n",
    "- multiply\n",
    "- divide \n",
    "- exponent\n",
    "- add\n",
    "- subtract"
   ]
  },
  {
   "cell_type": "code",
   "execution_count": 20,
   "metadata": {},
   "outputs": [],
   "source": [
    "class Calculator:\n",
    "    def multiply(self,a,b):\n",
    "        return(a*b)\n",
    "    def divide(self,a,b):\n",
    "        return(a/b)\n",
    "    def exponent(self,a,b):\n",
    "        return(a**b)\n",
    "    def add(self,a,b):\n",
    "        return(a+b)\n",
    "    def subtract(self,a,b):\n",
    "        return(a-b)"
   ]
  },
  {
   "cell_type": "code",
   "execution_count": 21,
   "metadata": {},
   "outputs": [
    {
     "name": "stdout",
     "output_type": "stream",
     "text": [
      "68\n",
      "1035\n",
      "-22\n",
      "0.5111111111111111\n",
      "18956258430116202791319715713277227626159289499745290235663543\n"
     ]
    }
   ],
   "source": [
    "b1=Calculator();\n",
    "print(b1.add(23,45))\n",
    "print(b1.multiply(23,45))\n",
    "print(b1.subtract(23,45))\n",
    "print(b1.divide(23,45))\n",
    "print(b1.exponent(23,45))\n"
   ]
  },
  {
   "cell_type": "code",
   "execution_count": 22,
   "metadata": {},
   "outputs": [
    {
     "data": {
      "text/plain": [
       "<__main__.Calculator at 0x27b2cc5ae50>"
      ]
     },
     "execution_count": 22,
     "metadata": {},
     "output_type": "execute_result"
    }
   ],
   "source": [
    "b1"
   ]
  },
  {
   "cell_type": "markdown",
   "metadata": {},
   "source": [
    " # Data class\n",
    " if there is a class that has data only and no logics we create Data class\n",
    "\n",
    " - came in python 3.9\n",
    " - adds constructor on own\n",
    " - better data representation"
   ]
  },
  {
   "cell_type": "code",
   "execution_count": 23,
   "metadata": {},
   "outputs": [],
   "source": [
    "from dataclasses import dataclass"
   ]
  },
  {
   "cell_type": "code",
   "execution_count": 26,
   "metadata": {},
   "outputs": [],
   "source": [
    "# @dataclass\n",
    "#decorator function used to specify \n",
    "\n",
    "# here @ is called annotation\n",
    "class Recipe:\n",
    "    name:str\n",
    "    ingredients:str\n",
    "    instructions:str"
   ]
  },
  {
   "cell_type": "code",
   "execution_count": 25,
   "metadata": {},
   "outputs": [
    {
     "name": "stdout",
     "output_type": "stream",
     "text": [
      "Help on class Recipe in module __main__:\n",
      "\n",
      "class Recipe(builtins.object)\n",
      " |  Recipe(name: str, ingredients: str, instructions: str) -> None\n",
      " |  \n",
      " |  Recipe(name: str, ingredients: str, instructions: str)\n",
      " |  \n",
      " |  Methods defined here:\n",
      " |  \n",
      " |  __eq__(self, other)\n",
      " |      Return self==value.\n",
      " |  \n",
      " |  __init__(self, name: str, ingredients: str, instructions: str) -> None\n",
      " |      Initialize self.  See help(type(self)) for accurate signature.\n",
      " |  \n",
      " |  __repr__(self)\n",
      " |      Return repr(self).\n",
      " |  \n",
      " |  ----------------------------------------------------------------------\n",
      " |  Data descriptors defined here:\n",
      " |  \n",
      " |  __dict__\n",
      " |      dictionary for instance variables (if defined)\n",
      " |  \n",
      " |  __weakref__\n",
      " |      list of weak references to the object (if defined)\n",
      " |  \n",
      " |  ----------------------------------------------------------------------\n",
      " |  Data and other attributes defined here:\n",
      " |  \n",
      " |  __annotations__ = {'ingredients': <class 'str'>, 'instructions': <clas...\n",
      " |  \n",
      " |  __dataclass_fields__ = {'ingredients': Field(name='ingredients',type=<...\n",
      " |  \n",
      " |  __dataclass_params__ = _DataclassParams(init=True,repr=True,eq=True,or...\n",
      " |  \n",
      " |  __hash__ = None\n",
      " |  \n",
      " |  __match_args__ = ('name', 'ingredients', 'instructions')\n",
      "\n"
     ]
    }
   ],
   "source": [
    "help(Recipe)"
   ]
  },
  {
   "cell_type": "code",
   "execution_count": 27,
   "metadata": {},
   "outputs": [],
   "source": [
    "@dataclass\n",
    "class Bottelx:\n",
    "    material:str\n",
    "    content:str\n",
    "    capacity:str"
   ]
  },
  {
   "cell_type": "code",
   "execution_count": null,
   "metadata": {},
   "outputs": [],
   "source": [
    "r1=Recipe(\"Mac n cheese\",[\"mac\",\"cheese\",\"milk\",\"butter\"])\n",
    "r2=Recipe('mango shake',['Mango',\"Milk\"])"
   ]
  },
  {
   "cell_type": "markdown",
   "metadata": {},
   "source": [
    "data"
   ]
  },
  {
   "cell_type": "code",
   "execution_count": 2,
   "metadata": {},
   "outputs": [
    {
     "name": "stdout",
     "output_type": "stream",
     "text": [
      "Fish(name='nemo', color='orange', species='clown fish')\n",
      "Fish(name='dory', color='blue', species='blue tang')\n",
      "Fish(name='bruce', color='yellow', species='unknown')\n"
     ]
    }
   ],
   "source": [
    "from dataclasses import dataclass\n",
    "@dataclass\n",
    "class Fish:\n",
    "    name : str\n",
    "    color:str\n",
    "    species:str='unknown'\n",
    "\n",
    "f1=Fish('nemo','orange','clown fish')\n",
    "f2=Fish('dory','blue','blue tang')\n",
    "f3=Fish('bruce','yellow')\n",
    "\n",
    "print(f1)\n",
    "print(f2)\n",
    "print(f3)"
   ]
  },
  {
   "cell_type": "markdown",
   "metadata": {},
   "source": [
    "- ek class me ek hi init ho skta hai means constructor overloading ni hogi\n",
    "- however, init me hi default parameter ki madad se hum polymorphism achieve kr skte hai\n",
    "- eg : __init_ _(a,b,c=0,d=0)\n",
    "- ab chahe a b pass kren a b c pass kren a b c d pass kren aalag alag overloading ki ja skti hai"
   ]
  },
  {
   "cell_type": "markdown",
   "metadata": {},
   "source": [
    "# Inheritance"
   ]
  },
  {
   "cell_type": "markdown",
   "metadata": {},
   "source": [
    " class Shark(Fish)  #fish ki properties are inherited by shark "
   ]
  },
  {
   "cell_type": "markdown",
   "metadata": {},
   "source": [
    "Not a very good approach for inheritance as both are self made classes , no need \n",
    "# v\n",
    "use existing class inherit and make own class with existing properties \n",
    "this would help inhance the functionality of existing class and add own functions also"
   ]
  },
  {
   "cell_type": "code",
   "execution_count": 5,
   "metadata": {},
   "outputs": [
    {
     "name": "stdout",
     "output_type": "stream",
     "text": [
      "<__main__.Item object at 0x0000016F1C7AFD50>\n",
      "<class '__main__.SpecialItem'>\n"
     ]
    }
   ],
   "source": [
    "class Item:\n",
    "    def __init__(self, name,weight) -> None:\n",
    "        self.name=name\n",
    "        self.weight = weight\n",
    "\n",
    "class SpecialItem(Item):\n",
    "    def __init__(self,name,weight,speciality) -> None:\n",
    "        super().__init__(name,weight)\n",
    "        self.speciality = speciality\n",
    "\n",
    "normal_item=Item(\"ItemOne\",10)\n",
    "special_item=SpecialItem(\"ItemTwo\",10, 'light Weight')\n",
    "\n"
   ]
  },
  {
   "cell_type": "code",
   "execution_count": null,
   "metadata": {},
   "outputs": [],
   "source": []
  }
 ],
 "metadata": {
  "kernelspec": {
   "display_name": "base",
   "language": "python",
   "name": "python3"
  },
  "language_info": {
   "codemirror_mode": {
    "name": "ipython",
    "version": 3
   },
   "file_extension": ".py",
   "mimetype": "text/x-python",
   "name": "python",
   "nbconvert_exporter": "python",
   "pygments_lexer": "ipython3",
   "version": "3.11.4"
  }
 },
 "nbformat": 4,
 "nbformat_minor": 2
}
