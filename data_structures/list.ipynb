{
 "cells": [
  {
   "cell_type": "markdown",
   "metadata": {},
   "source": [
    "- create\n",
    "- indexing and slicing\n",
    "- methods\n",
    "- baisc operations\n",
    "- comprehension"
   ]
  },
  {
   "cell_type": "code",
   "execution_count": 4,
   "metadata": {},
   "outputs": [],
   "source": [
    "x = [] #empty list\n",
    "a= [1,2,3,4] #numerical list\n",
    "b= ['alex','alexa','alesis'] #text list\n",
    "c= ['alex',12,'alexa',15]#mixed list\n",
    "d=[[1,2,3],[2,3]]#nested list\n",
    "e=[[1,2,3],[4,5,6,],[7,8,9]]#nested list(equal length can be used as matrix)"
   ]
  },
  {
   "cell_type": "code",
   "execution_count": 3,
   "metadata": {},
   "outputs": [
    {
     "name": "stdout",
     "output_type": "stream",
     "text": [
      "[1, 1, 1, 1, 1, 1, 1, 1, 1, 1]\n",
      "[1, 2, 3, 1, 2, 3, 1, 2, 3]\n"
     ]
    }
   ],
   "source": [
    "w=[1]*10 #list duplication (repitition)\n",
    "print(w)\n",
    "\n",
    "w2=[1,2,3]*3 #list duplication (replition)\n",
    "print(w2)"
   ]
  },
  {
   "cell_type": "code",
   "execution_count": 2,
   "metadata": {},
   "outputs": [
    {
     "name": "stdout",
     "output_type": "stream",
     "text": [
      "[1, 2, 3, 4, 5, 6]\n",
      "[[1, 2, 3], [4, 5, 6]]\n"
     ]
    }
   ],
   "source": [
    "a=[1,2,3]\n",
    "b=[4,5,6]\n",
    "c=a+b #list concatenation\n",
    "print(c)\n",
    "\n",
    "d=[a,b]#nested list\n",
    "print(d)"
   ]
  },
  {
   "cell_type": "code",
   "execution_count": 6,
   "metadata": {},
   "outputs": [
    {
     "name": "stdout",
     "output_type": "stream",
     "text": [
      "[1, 2, 3]\n",
      "[7, 8, 9, 10]\n",
      "[4, 5, 6, 7]\n",
      "[1, 2, 3, 4, 5, 6, 7, 8, 9, 10]\n",
      "[10, 9, 8, 7, 6, 5, 4, 3, 2, 1]\n",
      "[1, 3, 5, 7, 9]\n",
      "[2, 4, 6, 8, 10]\n"
     ]
    }
   ],
   "source": [
    "x=[1,2,3,4,5,6,7,8,9,10]\n",
    "print(x[:3]) #first 3 items\n",
    "print(x[-4:]) #last 4 items\n",
    "print(x[3:-3]) #middle items\n",
    "\n",
    "print(x)\n",
    "print(x[::-1]) #reverse list\n",
    "print(x[::2]) #all elements with even index\n",
    "print(x[1::2]) #all elements with odd index\n"
   ]
  },
  {
   "cell_type": "code",
   "execution_count": 5,
   "metadata": {},
   "outputs": [
    {
     "ename": "IndexError",
     "evalue": "list index out of range",
     "output_type": "error",
     "traceback": [
      "\u001b[1;31m---------------------------------------------------------------------------\u001b[0m",
      "\u001b[1;31mIndexError\u001b[0m                                Traceback (most recent call last)",
      "\u001b[1;32mc:\\Users\\dell\\Desktop\\digipodium\\2023-SEP-PY-DS-DA-MTWF-200\\data_structures\\list.ipynb Cell 6\u001b[0m line \u001b[0;36m1\n\u001b[1;32m----> <a href='vscode-notebook-cell:/c%3A/Users/dell/Desktop/digipodium/2023-SEP-PY-DS-DA-MTWF-200/data_structures/list.ipynb#X11sZmlsZQ%3D%3D?line=0'>1</a>\u001b[0m \u001b[39mprint\u001b[39m(x[\u001b[39m0\u001b[39m])\u001b[39m#first element\u001b[39;00m\n\u001b[0;32m      <a href='vscode-notebook-cell:/c%3A/Users/dell/Desktop/digipodium/2023-SEP-PY-DS-DA-MTWF-200/data_structures/list.ipynb#X11sZmlsZQ%3D%3D?line=1'>2</a>\u001b[0m \u001b[39mprint\u001b[39m(x[\u001b[39m-\u001b[39m\u001b[39m1\u001b[39m])\n",
      "\u001b[1;31mIndexError\u001b[0m: list index out of range"
     ]
    }
   ],
   "source": [
    "print(x[0])#first element\n",
    "print(x[-1]) #last element\n",
    "\n"
   ]
  },
  {
   "cell_type": "code",
   "execution_count": 7,
   "metadata": {},
   "outputs": [
    {
     "name": "stdout",
     "output_type": "stream",
     "text": [
      "1\n",
      "2\n",
      "3\n",
      "4\n",
      "5\n",
      "6\n",
      "7\n",
      "8\n",
      "9\n",
      "10\n"
     ]
    }
   ],
   "source": [
    "#travelsl \n",
    "for i in x:\n",
    "    print(i,)"
   ]
  },
  {
   "cell_type": "markdown",
   "metadata": {},
   "source": [
    "methods\n",
    "- add\n",
    "  - append\n",
    "  - extend\n",
    "  - insert\n",
    "\n",
    "- remove\n",
    "  - remove\n",
    "  - pop\n",
    "  - clear\n",
    "\n",
    "- helper\n",
    "  - index\n",
    "  - count\n",
    "  - sort \n",
    "  - reversee\n",
    "  - copy"
   ]
  },
  {
   "cell_type": "code",
   "execution_count": 9,
   "metadata": {},
   "outputs": [
    {
     "data": {
      "text/plain": [
       "['The Final Empire', 'The Well of Ascension', 'The Hero of Ages', 'Warbreaker']"
      ]
     },
     "execution_count": 9,
     "metadata": {},
     "output_type": "execute_result"
    }
   ],
   "source": [
    "books = []\n",
    "books.append(\"The Final Empire\")\n",
    "books.append(\"The Well of Ascension\")\n",
    "books.append(\"The Hero of Ages\")\n",
    "books.append(\"Warbreaker\")\n",
    "\n",
    "books\n",
    "\n"
   ]
  },
  {
   "cell_type": "code",
   "execution_count": 10,
   "metadata": {},
   "outputs": [
    {
     "data": {
      "text/plain": [
       "['The Final Empire',\n",
       " 'The Way of kings',\n",
       " 'The Well of Ascension',\n",
       " 'The Hero of Ages',\n",
       " 'Words of Radiance',\n",
       " 'Warbreaker']"
      ]
     },
     "execution_count": 10,
     "metadata": {},
     "output_type": "execute_result"
    }
   ],
   "source": [
    "books.insert(1,'The Way of kings')\n",
    "books.insert(4,'Words of Radiance')\n",
    "\n",
    "books\n"
   ]
  },
  {
   "cell_type": "code",
   "execution_count": 11,
   "metadata": {},
   "outputs": [
    {
     "data": {
      "text/plain": [
       "['Twilight Saga: New Moon',\n",
       " 'Twilight Saga : Eclipse',\n",
       " 'The Wheel of Time',\n",
       " 'The Great Hunt']"
      ]
     },
     "execution_count": 11,
     "metadata": {},
     "output_type": "execute_result"
    }
   ],
   "source": [
    "crappy_books = [\n",
    "    'Twilight Saga: New Moon',\n",
    "    'Twilight Saga : Eclipse',\n",
    "    'The Wheel of Time',\n",
    "    'The Great Hunt'\n",
    "]\n",
    "crappy_books"
   ]
  },
  {
   "cell_type": "code",
   "execution_count": 12,
   "metadata": {},
   "outputs": [],
   "source": [
    "#to copy at the end\n",
    "books.extend(crappy_books)"
   ]
  },
  {
   "cell_type": "code",
   "execution_count": 13,
   "metadata": {},
   "outputs": [
    {
     "data": {
      "text/plain": [
       "['The Final Empire',\n",
       " 'The Way of kings',\n",
       " 'The Well of Ascension',\n",
       " 'The Hero of Ages',\n",
       " 'Words of Radiance',\n",
       " 'Warbreaker',\n",
       " 'Twilight Saga: New Moon',\n",
       " 'Twilight Saga : Eclipse',\n",
       " 'The Wheel of Time',\n",
       " 'The Great Hunt']"
      ]
     },
     "execution_count": 13,
     "metadata": {},
     "output_type": "execute_result"
    }
   ],
   "source": [
    "books"
   ]
  },
  {
   "cell_type": "code",
   "execution_count": 14,
   "metadata": {},
   "outputs": [
    {
     "name": "stdout",
     "output_type": "stream",
     "text": [
      "[1, 2, 3, 4, 5, 6, 7]\n"
     ]
    },
    {
     "data": {
      "text/plain": [
       "[1, 2, 3, 4, 5, 6, 7]"
      ]
     },
     "execution_count": 14,
     "metadata": {},
     "output_type": "execute_result"
    }
   ],
   "source": [
    "nums=[1,2,3]\n",
    "more_nums=[4,5,6,7]\n",
    "nums.extend(more_nums)\n",
    "print(nums)\n"
   ]
  },
  {
   "cell_type": "code",
   "execution_count": 15,
   "metadata": {},
   "outputs": [
    {
     "data": {
      "text/plain": [
       "[[1, 2, 3, 4, 5, 6, 7], [1, 2, 3, 4, 5, 6, 7], [1, 2, 3, 4, 5, 6, 7]]"
      ]
     },
     "execution_count": 15,
     "metadata": {},
     "output_type": "execute_result"
    }
   ],
   "source": [
    "num_matrix=[nums,nums,nums]\n",
    "num_matrix"
   ]
  },
  {
   "cell_type": "code",
   "execution_count": 16,
   "metadata": {},
   "outputs": [],
   "source": [
    "nums.extend(more_nums)"
   ]
  },
  {
   "cell_type": "code",
   "execution_count": 18,
   "metadata": {},
   "outputs": [
    {
     "data": {
      "text/plain": [
       "[1, 2, 3, 4, 5, 6, 7, 4, 5, 6, 7, 4, 5, 6, 7]"
      ]
     },
     "execution_count": 18,
     "metadata": {},
     "output_type": "execute_result"
    }
   ],
   "source": [
    "all_num=nums+more_nums\n",
    "all_num"
   ]
  },
  {
   "cell_type": "code",
   "execution_count": 21,
   "metadata": {},
   "outputs": [
    {
     "name": "stdout",
     "output_type": "stream",
     "text": [
      "['2', '3', '4', '5', '6']\n"
     ]
    }
   ],
   "source": [
    "list=[]\n",
    "for i in range (5):\n",
    "   list.append(input(\"enter value\"))\n",
    "\n",
    "print(list)\n"
   ]
  },
  {
   "cell_type": "code",
   "execution_count": 27,
   "metadata": {},
   "outputs": [
    {
     "name": "stdout",
     "output_type": "stream",
     "text": [
      "[1, 2, 3, 4, 5]\n",
      "total:15\n"
     ]
    }
   ],
   "source": [
    "#take 5 inputs and display total and numbers in a list\n",
    "#by default list takes string input \n",
    "list=[]\n",
    "for i in range (5):\n",
    "    list.append(int(input(\"enter value\")))\n",
    "print(list)\n",
    "print(f'total:{sum(list)}')\n"
   ]
  },
  {
   "cell_type": "code",
   "execution_count": 28,
   "metadata": {},
   "outputs": [
    {
     "data": {
      "text/plain": [
       "['The Final Empire',\n",
       " 'The Way of kings',\n",
       " 'The Well of Ascension',\n",
       " 'The Hero of Ages',\n",
       " 'Words of Radiance',\n",
       " 'Warbreaker',\n",
       " 'Twilight Saga: New Moon',\n",
       " 'Twilight Saga : Eclipse',\n",
       " 'The Wheel of Time',\n",
       " 'The Great Hunt']"
      ]
     },
     "execution_count": 28,
     "metadata": {},
     "output_type": "execute_result"
    }
   ],
   "source": [
    "books"
   ]
  },
  {
   "cell_type": "code",
   "execution_count": 30,
   "metadata": {},
   "outputs": [
    {
     "data": {
      "text/plain": [
       "['The Final Empire',\n",
       " 'The Well of Ascension',\n",
       " 'The Hero of Ages',\n",
       " 'Words of Radiance',\n",
       " 'Warbreaker',\n",
       " 'Twilight Saga: New Moon',\n",
       " 'Twilight Saga : Eclipse',\n",
       " 'The Wheel of Time',\n",
       " 'The Great Hunt']"
      ]
     },
     "execution_count": 30,
     "metadata": {},
     "output_type": "execute_result"
    }
   ],
   "source": [
    "books.remove('The Way of kings')\n"
   ]
  },
  {
   "cell_type": "code",
   "execution_count": 37,
   "metadata": {},
   "outputs": [
    {
     "name": "stdout",
     "output_type": "stream",
     "text": [
      "The Great Hunt not found in list\n"
     ]
    }
   ],
   "source": [
    "def safe_remove(val_to_remove):\n",
    "    if val_to_remove in books:\n",
    "        books.remove(val_to_remove)\n",
    "        print(f'{val_to_remove} removed from list')\n",
    "    else:\n",
    "        print(f'{val_to_remove} not found in list')\n",
    "books\n",
    "safe_remove('The Great Hunt')\n",
    "\n"
   ]
  },
  {
   "cell_type": "code",
   "execution_count": 38,
   "metadata": {},
   "outputs": [
    {
     "data": {
      "text/plain": [
       "'The Wheel of Time'"
      ]
     },
     "execution_count": 38,
     "metadata": {},
     "output_type": "execute_result"
    }
   ],
   "source": [
    "#pop\n",
    "\n",
    "books.pop()#removes the last element\n",
    "#return type is the last element of the list"
   ]
  },
  {
   "cell_type": "code",
   "execution_count": 42,
   "metadata": {},
   "outputs": [
    {
     "ename": "SyntaxError",
     "evalue": "unexpected character after line continuation character (1003731247.py, line 2)",
     "output_type": "error",
     "traceback": [
      "\u001b[1;36m  Cell \u001b[1;32mIn[42], line 2\u001b[1;36m\u001b[0m\n\u001b[1;33m    print(books\\n)\u001b[0m\n\u001b[1;37m                ^\u001b[0m\n\u001b[1;31mSyntaxError\u001b[0m\u001b[1;31m:\u001b[0m unexpected character after line continuation character\n"
     ]
    }
   ],
   "source": [
    "books.pop(1)#remove at index 1\n",
    "print(books)"
   ]
  },
  {
   "cell_type": "code",
   "execution_count": 43,
   "metadata": {},
   "outputs": [
    {
     "name": "stdout",
     "output_type": "stream",
     "text": [
      "[]\n"
     ]
    }
   ],
   "source": [
    "books.clear()\n",
    "print(books)"
   ]
  },
  {
   "cell_type": "code",
   "execution_count": null,
   "metadata": {},
   "outputs": [],
   "source": [
    "del a #to delete a variable from the memory and cant be accessed i.e. free "
   ]
  },
  {
   "cell_type": "code",
   "execution_count": 1,
   "metadata": {},
   "outputs": [
    {
     "name": "stdout",
     "output_type": "stream",
     "text": [
      "3\n",
      "2\n"
     ]
    }
   ],
   "source": [
    "x=['a1','b2','a1','a1','b2']\n",
    "#find out no of occurances\n",
    "print(x.count('a1'))\n",
    "print(x.count('b2'))"
   ]
  },
  {
   "cell_type": "code",
   "execution_count": 4,
   "metadata": {},
   "outputs": [
    {
     "data": {
      "text/plain": [
       "['b2', 'b2', 'a1', 'a1', 'a1']"
      ]
     },
     "execution_count": 4,
     "metadata": {},
     "output_type": "execute_result"
    }
   ],
   "source": [
    "#Sorting happens only when the type of the elements is same\n",
    "#mixed data cant be sorted\n",
    "x.sort()\n",
    "x\n",
    "x.sort(reverse=True)\n",
    "x"
   ]
  },
  {
   "cell_type": "code",
   "execution_count": 5,
   "metadata": {},
   "outputs": [
    {
     "data": {
      "text/plain": [
       "[5, 4, 3, 2, 1]"
      ]
     },
     "execution_count": 5,
     "metadata": {},
     "output_type": "execute_result"
    }
   ],
   "source": [
    "#to reverse a list\n",
    "a=[1,2,3,4,5]\n",
    "a.reverse()\n",
    "a"
   ]
  },
  {
   "cell_type": "markdown",
   "metadata": {},
   "source": [
    "### Sort function"
   ]
  },
  {
   "cell_type": "code",
   "execution_count": 7,
   "metadata": {},
   "outputs": [
    {
     "name": "stdout",
     "output_type": "stream",
     "text": [
      "['aeroplane', 'app', 'apple', 'association', 'avocado']\n",
      "['avocado', 'association', 'apple', 'app', 'aeroplane']\n",
      "['app', 'apple', 'avocado', 'aeroplane', 'association']\n",
      "['association', 'aeroplane', 'avocado', 'apple', 'app']\n"
     ]
    }
   ],
   "source": [
    "words=['app','apple','avocado','aeroplane','association']\n",
    "words.sort()#alphabetuc\n",
    "print(words)\n",
    "words.sort(reverse=True) #reverse sort\n",
    "print(words)\n",
    "words.sort(key=len)#sort acc to length\n",
    "print(words)\n",
    "words.sort(key=len , reverse=True)#descending length\n",
    "print(words)\n"
   ]
  },
  {
   "cell_type": "markdown",
   "metadata": {},
   "source": [
    "### Index and Copy function\n",
    "\n"
   ]
  },
  {
   "cell_type": "code",
   "execution_count": 8,
   "metadata": {},
   "outputs": [
    {
     "data": {
      "text/plain": [
       "2"
      ]
     },
     "execution_count": 8,
     "metadata": {},
     "output_type": "execute_result"
    }
   ],
   "source": [
    "words.index('avocado') #returns the index of the first occurence of the element\n",
    "#search for the exact element and not a substring in another string\n"
   ]
  },
  {
   "cell_type": "markdown",
   "metadata": {},
   "source": [
    "#### is is used to check if both are same object of same memory location"
   ]
  },
  {
   "cell_type": "code",
   "execution_count": 14,
   "metadata": {},
   "outputs": [
    {
     "name": "stdout",
     "output_type": "stream",
     "text": [
      "True\n",
      "False\n",
      "False\n",
      "False\n"
     ]
    }
   ],
   "source": [
    "words=['app','apple','avocado','aeroplane','association']\n",
    "words_copy1=words#copy by reference \n",
    "#saves the memory location of the variable of list\n",
    "#gives same dat, changes reflected both places \n",
    "#not used much\n",
    "#for different memory location copy use \n",
    "\n",
    "words_copy2=words.copy() #copy by value\n",
    "#check is done\n",
    "print(words_copy1 is words)\n",
    "print(words_copy2 is words)\n",
    "words=['change','the', 'words']\n",
    "print(words_copy1 is words)\n",
    "print(words_copy2 is words)"
   ]
  },
  {
   "cell_type": "markdown",
   "metadata": {},
   "source": [
    "generating a list of numbers from existing list"
   ]
  },
  {
   "cell_type": "code",
   "execution_count": 17,
   "metadata": {},
   "outputs": [
    {
     "name": "stdout",
     "output_type": "stream",
     "text": [
      "[1, 4, 9, 16, 25]\n"
     ]
    }
   ],
   "source": [
    "x=[1,2,3,4,5]\n",
    "y=[]\n",
    "for i in x:\n",
    "    y.append(i**2)\n",
    "print(y)\n",
    "#we cannot update list items directly, use append()\n",
    "\n",
    "#can be done in 1 line using Comprehension"
   ]
  },
  {
   "cell_type": "markdown",
   "metadata": {},
   "source": [
    "## List Comprehension\n",
    "```\n",
    "syntax:\n",
    "new_list=[operation for item in existing_list]\n",
    "```\n",
    "list comprehension with condition\n",
    "\n",
    "```\n",
    "new_list=[operation  from item in list if expression]\n",
    "```"
   ]
  },
  {
   "cell_type": "code",
   "execution_count": 18,
   "metadata": {},
   "outputs": [
    {
     "name": "stdout",
     "output_type": "stream",
     "text": [
      "[1, 2, 3, 4, 5]\n",
      "[1, 4, 9, 16, 25]\n"
     ]
    }
   ],
   "source": [
    "x2=[i for i in x] # x1 se ek value 1 me aegi and i jaega x2 me\n",
    "print(x2)\n",
    "x2=[i**2 for i in x] # x1 se ek value 1 me aegi and i jaega x2 me\n",
    "print(x2)\n"
   ]
  },
  {
   "cell_type": "code",
   "execution_count": 19,
   "metadata": {},
   "outputs": [
    {
     "name": "stdout",
     "output_type": "stream",
     "text": [
      "[1, 2, 3, 4, 5, 6, 7, 8, 9, 10]\n",
      "[1, 3, 5, 7, 9]\n"
     ]
    }
   ],
   "source": [
    "a=[1,2,3,4,5,6,7,8,9,10]\n",
    "a_odd= [i for i in a if i%2!=0]\n",
    "print(a)\n",
    "print(a_odd)\n",
    "#to make a list from list we need comprehension \n",
    "# for printing no need\n"
   ]
  },
  {
   "cell_type": "code",
   "execution_count": 20,
   "metadata": {},
   "outputs": [
    {
     "name": "stdout",
     "output_type": "stream",
     "text": [
      "[8, 64, 216, 512, 1000]\n"
     ]
    }
   ],
   "source": [
    "a=[1,2,3,4,5,6,7,8,9,10]\n",
    "a_= [i**3 for i in a if i%2==0]\n",
    "print(a_)"
   ]
  },
  {
   "cell_type": "code",
   "execution_count": null,
   "metadata": {},
   "outputs": [],
   "source": []
  }
 ],
 "metadata": {
  "kernelspec": {
   "display_name": "base",
   "language": "python",
   "name": "python3"
  },
  "language_info": {
   "codemirror_mode": {
    "name": "ipython",
    "version": 3
   },
   "file_extension": ".py",
   "mimetype": "text/x-python",
   "name": "python",
   "nbconvert_exporter": "python",
   "pygments_lexer": "ipython3",
   "version": "3.11.4"
  },
  "orig_nbformat": 4
 },
 "nbformat": 4,
 "nbformat_minor": 2
}
