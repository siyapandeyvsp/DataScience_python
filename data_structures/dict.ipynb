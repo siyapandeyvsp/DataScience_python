{
 "cells": [
  {
   "cell_type": "markdown",
   "metadata": {},
   "source": [
    "- to store data in key value pair\n",
    "- meaningful\n",
    "- key has to be constant \n",
    "to make empty set=()\n",
    "but empty dict={}\n",
    "#### leaning \n"
   ]
  },
  {
   "cell_type": "code",
   "execution_count": 14,
   "metadata": {},
   "outputs": [
    {
     "name": "stdout",
     "output_type": "stream",
     "text": [
      "{'brand': 'Mahindra', 'model': 'XUV', 'Series': '500', 'Type': 'Diesel', 'Capacity': 7, 'mileage': 10, 'color': 'white', 'is_4wd': True, 'colors': ['Red', 'White', 'Black']}\n"
     ]
    }
   ],
   "source": [
    "\n",
    "x={\n",
    "    'brand': 'Mahindra',\n",
    "    'model':'XUV',\n",
    "    'Series':'500',\n",
    "    'Type':'Diesel',\n",
    "    'Capacity':7,\n",
    "    'mileage':10,\n",
    "    'color':'white',\n",
    "    'is_4wd':True,\n",
    "    'colors':['Red','White','Black']\n",
    "}\n",
    "print(x)\n",
    "#java me hashmap\n",
    "#javascript me json"
   ]
  },
  {
   "cell_type": "code",
   "execution_count": 3,
   "metadata": {},
   "outputs": [],
   "source": [
    "info={}#empty dict\n"
   ]
  },
  {
   "cell_type": "markdown",
   "metadata": {},
   "source": [
    "- add items\n",
    "- update items\n",
    "- remove items\n",
    "- traverse items\n",
    "\n",
    "how to add\n",
    "```\n",
    "dict['new_key']='new_value'\n",
    "```"
   ]
  },
  {
   "cell_type": "code",
   "execution_count": 4,
   "metadata": {},
   "outputs": [
    {
     "data": {
      "text/plain": [
       "{'first_name': 'Henry'}"
      ]
     },
     "execution_count": 4,
     "metadata": {},
     "output_type": "execute_result"
    }
   ],
   "source": [
    "info['first_name']= 'Henry'\n",
    "info"
   ]
  },
  {
   "cell_type": "code",
   "execution_count": 5,
   "metadata": {},
   "outputs": [
    {
     "name": "stdout",
     "output_type": "stream",
     "text": [
      "{'first_name': 'Henry', 'last_name': 'Sugar', 'age': 45, 'city': 'New York'}\n"
     ]
    }
   ],
   "source": [
    "info['last_name']= 'Sugar'\n",
    "info['age']=45\n",
    "info['city']=\"New York\"\n",
    "print(info)"
   ]
  },
  {
   "cell_type": "markdown",
   "metadata": {},
   "source": [
    "how to update data \n",
    "\n",
    "```\n",
    "dict['existing_key']=new_value\n",
    "```"
   ]
  },
  {
   "cell_type": "code",
   "execution_count": 6,
   "metadata": {},
   "outputs": [
    {
     "name": "stdout",
     "output_type": "stream",
     "text": [
      "{'first_name': 'Henry', 'last_name': 'Sugar', 'age': 45, 'city': 'London'}\n"
     ]
    }
   ],
   "source": [
    "info['city']=\"London\"\n",
    "print (info)"
   ]
  },
  {
   "cell_type": "markdown",
   "metadata": {},
   "source": [
    "how to remove data\n",
    "```\n",
    "dict.pop('existing key)\n",
    "```"
   ]
  },
  {
   "cell_type": "code",
   "execution_count": 9,
   "metadata": {},
   "outputs": [
    {
     "ename": "KeyError",
     "evalue": "'age'",
     "output_type": "error",
     "traceback": [
      "\u001b[1;31m---------------------------------------------------------------------------\u001b[0m",
      "\u001b[1;31mKeyError\u001b[0m                                  Traceback (most recent call last)",
      "\u001b[1;32mc:\\Users\\dell\\Desktop\\personal_work\\digipodium\\2023-SEP-PY-DS-DA-MTWF-200\\data_structures\\dict.ipynb Cell 10\u001b[0m line \u001b[0;36m1\n\u001b[1;32m----> <a href='vscode-notebook-cell:/c%3A/Users/dell/Desktop/personal_work/digipodium/2023-SEP-PY-DS-DA-MTWF-200/data_structures/dict.ipynb#X12sZmlsZQ%3D%3D?line=0'>1</a>\u001b[0m info\u001b[39m.\u001b[39mpop(\u001b[39m'\u001b[39m\u001b[39mage\u001b[39m\u001b[39m'\u001b[39m)\n\u001b[0;32m      <a href='vscode-notebook-cell:/c%3A/Users/dell/Desktop/personal_work/digipodium/2023-SEP-PY-DS-DA-MTWF-200/data_structures/dict.ipynb#X12sZmlsZQ%3D%3D?line=1'>2</a>\u001b[0m info\n",
      "\u001b[1;31mKeyError\u001b[0m: 'age'"
     ]
    }
   ],
   "source": [
    "info.pop('age')\n",
    "info"
   ]
  },
  {
   "cell_type": "markdown",
   "metadata": {},
   "source": [
    "key error comes if key not exist"
   ]
  },
  {
   "cell_type": "markdown",
   "metadata": {},
   "source": [
    "extract keys and values\n",
    "- dict.keys()\n",
    "- dict.values()\n",
    "- dict.items()"
   ]
  },
  {
   "cell_type": "code",
   "execution_count": 11,
   "metadata": {},
   "outputs": [
    {
     "name": "stdout",
     "output_type": "stream",
     "text": [
      "dict_keys(['first_name', 'last_name', 'city'])\n",
      "dict_values(['Henry', 'Sugar', 'London'])\n",
      "dict_items([('first_name', 'Henry'), ('last_name', 'Sugar'), ('city', 'London')])\n"
     ]
    }
   ],
   "source": [
    "print(info.keys())\n",
    "print(info.values())\n",
    "print(info.items())"
   ]
  },
  {
   "cell_type": "markdown",
   "metadata": {},
   "source": [
    "fetching data from dict\n",
    "```\n",
    "dict[key] # throws error if key not exist\n",
    "dict.get(key) # returns none if key does not exist #no error\n",
    "```"
   ]
  },
  {
   "cell_type": "code",
   "execution_count": 12,
   "metadata": {},
   "outputs": [
    {
     "data": {
      "text/plain": [
       "'Mahindra'"
      ]
     },
     "execution_count": 12,
     "metadata": {},
     "output_type": "execute_result"
    }
   ],
   "source": [
    "x['brand']"
   ]
  },
  {
   "cell_type": "code",
   "execution_count": 15,
   "metadata": {},
   "outputs": [
    {
     "name": "stdout",
     "output_type": "stream",
     "text": [
      "10\n",
      "['Red', 'White', 'Black']\n"
     ]
    }
   ],
   "source": [
    "print(x['mileage'])\n",
    "print(x['colors'])"
   ]
  },
  {
   "cell_type": "code",
   "execution_count": 16,
   "metadata": {},
   "outputs": [
    {
     "name": "stdout",
     "output_type": "stream",
     "text": [
      "Mahindra\n",
      "XUV\n",
      "['Red', 'White', 'Black']\n",
      "None\n"
     ]
    }
   ],
   "source": [
    "print(x.get('brand'))\n",
    "print(x.get('model'))\n",
    "print(x.get('colors'))\n",
    "print(x.get('price'))"
   ]
  },
  {
   "cell_type": "markdown",
   "metadata": {},
   "source": [
    "traversing a dict\n",
    "```\n",
    "```"
   ]
  },
  {
   "cell_type": "code",
   "execution_count": 17,
   "metadata": {},
   "outputs": [
    {
     "name": "stdout",
     "output_type": "stream",
     "text": [
      "brand\n",
      "model\n",
      "Series\n",
      "Type\n",
      "Capacity\n",
      "mileage\n",
      "color\n",
      "is_4wd\n",
      "colors\n"
     ]
    }
   ],
   "source": [
    "for i in x:\n",
    "    print (i) #prints only keys\n",
    "    "
   ]
  },
  {
   "cell_type": "code",
   "execution_count": 18,
   "metadata": {},
   "outputs": [
    {
     "name": "stdout",
     "output_type": "stream",
     "text": [
      "Mahindra\n",
      "XUV\n",
      "500\n",
      "Diesel\n",
      "7\n",
      "10\n",
      "white\n",
      "True\n",
      "['Red', 'White', 'Black']\n"
     ]
    }
   ],
   "source": [
    "for i in x:\n",
    "    print(x[i]) #prints value   not good\n",
    "    "
   ]
  },
  {
   "cell_type": "code",
   "execution_count": 19,
   "metadata": {},
   "outputs": [
    {
     "name": "stdout",
     "output_type": "stream",
     "text": [
      "brand Mahindra\n",
      "model XUV\n",
      "Series 500\n",
      "Type Diesel\n",
      "Capacity 7\n",
      "mileage 10\n",
      "color white\n",
      "is_4wd True\n",
      "colors ['Red', 'White', 'Black']\n"
     ]
    }
   ],
   "source": [
    "for i in x :\n",
    "    print(i,x[i]) #prints keys and values   not good"
   ]
  },
  {
   "cell_type": "code",
   "execution_count": 20,
   "metadata": {},
   "outputs": [
    {
     "name": "stdout",
     "output_type": "stream",
     "text": [
      "brand --> Mahindra\n",
      "model --> XUV\n",
      "Series --> 500\n",
      "Type --> Diesel\n",
      "Capacity --> 7\n",
      "mileage --> 10\n",
      "color --> white\n",
      "is_4wd --> True\n",
      "colors --> ['Red', 'White', 'Black']\n"
     ]
    }
   ],
   "source": [
    "#best way to iterate dict\n",
    "for k,v in x.items():\n",
    "    print(k,'-->',v)"
   ]
  },
  {
   "cell_type": "code",
   "execution_count": 22,
   "metadata": {},
   "outputs": [],
   "source": [
    "data ={\n",
    "  \"sol_keys\": [], \n",
    "  \"validity_checks\": {\n",
    "    \"1219\": {\n",
    "      \"AT\": {\n",
    "        \"sol_hours_with_data\": [\n",
    "          6, \n",
    "          7, \n",
    "          8, \n",
    "          9, \n",
    "          10, \n",
    "          11, \n",
    "          12\n",
    "        ], \n",
    "        \"valid\": False\n",
    "      }, \n",
    "      \"HWS\": {\n",
    "        \"sol_hours_with_data\": [\n",
    "          6, \n",
    "          7, \n",
    "          8, \n",
    "          9, \n",
    "          10, \n",
    "          11, \n",
    "          12\n",
    "        ], \n",
    "        \"valid\": False\n",
    "      }, \n",
    "      \"PRE\": {\n",
    "        \"sol_hours_with_data\": [\n",
    "          6, \n",
    "          7, \n",
    "          8, \n",
    "          9, \n",
    "          10, \n",
    "          11, \n",
    "          12\n",
    "        ], \n",
    "        \"valid\": False\n",
    "      }, \n",
    "      \"WD\": {\n",
    "        \"sol_hours_with_data\": [\n",
    "          6, \n",
    "          7, \n",
    "          8, \n",
    "          9, \n",
    "          10, \n",
    "          11, \n",
    "          12\n",
    "        ], \n",
    "        \"valid\": False\n",
    "      }\n",
    "    }, \n",
    "    \"sol_hours_required\": 18, \n",
    "    \"sols_checked\": [\n",
    "      \"1219\"\n",
    "    ]\n",
    "  }\n",
    "}"
   ]
  },
  {
   "cell_type": "code",
   "execution_count": 23,
   "metadata": {},
   "outputs": [
    {
     "data": {
      "text/plain": [
       "{'sol_keys': [],\n",
       " 'validity_checks': {'1219': {'AT': {'sol_hours_with_data': [6,\n",
       "     7,\n",
       "     8,\n",
       "     9,\n",
       "     10,\n",
       "     11,\n",
       "     12],\n",
       "    'valid': False},\n",
       "   'HWS': {'sol_hours_with_data': [6, 7, 8, 9, 10, 11, 12], 'valid': False},\n",
       "   'PRE': {'sol_hours_with_data': [6, 7, 8, 9, 10, 11, 12], 'valid': False},\n",
       "   'WD': {'sol_hours_with_data': [6, 7, 8, 9, 10, 11, 12], 'valid': False}},\n",
       "  'sol_hours_required': 18,\n",
       "  'sols_checked': ['1219']}}"
      ]
     },
     "execution_count": 23,
     "metadata": {},
     "output_type": "execute_result"
    }
   ],
   "source": [
    "data"
   ]
  },
  {
   "cell_type": "code",
   "execution_count": 25,
   "metadata": {},
   "outputs": [
    {
     "name": "stdout",
     "output_type": "stream",
     "text": [
      "sol_keys --> []\n",
      "validity_checks --> {'1219': {'AT': {'sol_hours_with_data': [6, 7, 8, 9, 10, 11, 12], 'valid': False}, 'HWS': {'sol_hours_with_data': [6, 7, 8, 9, 10, 11, 12], 'valid': False}, 'PRE': {'sol_hours_with_data': [6, 7, 8, 9, 10, 11, 12], 'valid': False}, 'WD': {'sol_hours_with_data': [6, 7, 8, 9, 10, 11, 12], 'valid': False}}, 'sol_hours_required': 18, 'sols_checked': ['1219']}\n",
      "1219 --> {'AT': {'sol_hours_with_data': [6, 7, 8, 9, 10, 11, 12], 'valid': False}, 'HWS': {'sol_hours_with_data': [6, 7, 8, 9, 10, 11, 12], 'valid': False}, 'PRE': {'sol_hours_with_data': [6, 7, 8, 9, 10, 11, 12], 'valid': False}, 'WD': {'sol_hours_with_data': [6, 7, 8, 9, 10, 11, 12], 'valid': False}}\n",
      "AT {'sol_hours_with_data': [6, 7, 8, 9, 10, 11, 12], 'valid': False}\n",
      "HWS {'sol_hours_with_data': [6, 7, 8, 9, 10, 11, 12], 'valid': False}\n",
      "PRE {'sol_hours_with_data': [6, 7, 8, 9, 10, 11, 12], 'valid': False}\n",
      "WD {'sol_hours_with_data': [6, 7, 8, 9, 10, 11, 12], 'valid': False}\n",
      "sol_hours_required --> 18\n",
      "sols_checked --> ['1219']\n"
     ]
    }
   ],
   "source": [
    "for k,v in data.items():\n",
    "    print(k,'-->', v )\n",
    "    if isinstance(v,dict):\n",
    "        for k1,v1 in v.items():\n",
    "            print(k1,'-->',v1)\n",
    "            if isinstance(v1,dict):\n",
    "                for k2,v2 in v1.items():\n",
    "                    print(k2,v2)"
   ]
  },
  {
   "cell_type": "markdown",
   "metadata": {},
   "source": [
    "recursive function"
   ]
  },
  {
   "cell_type": "code",
   "execution_count": 26,
   "metadata": {},
   "outputs": [
    {
     "name": "stdout",
     "output_type": "stream",
     "text": [
      "sol_keys --> []\n",
      "validity_checks --> {'1219': {'AT': {'sol_hours_with_data': [6, 7, 8, 9, 10, 11, 12], 'valid': False}, 'HWS': {'sol_hours_with_data': [6, 7, 8, 9, 10, 11, 12], 'valid': False}, 'PRE': {'sol_hours_with_data': [6, 7, 8, 9, 10, 11, 12], 'valid': False}, 'WD': {'sol_hours_with_data': [6, 7, 8, 9, 10, 11, 12], 'valid': False}}, 'sol_hours_required': 18, 'sols_checked': ['1219']}\n",
      "1219 --> {'AT': {'sol_hours_with_data': [6, 7, 8, 9, 10, 11, 12], 'valid': False}, 'HWS': {'sol_hours_with_data': [6, 7, 8, 9, 10, 11, 12], 'valid': False}, 'PRE': {'sol_hours_with_data': [6, 7, 8, 9, 10, 11, 12], 'valid': False}, 'WD': {'sol_hours_with_data': [6, 7, 8, 9, 10, 11, 12], 'valid': False}}\n",
      "AT --> {'sol_hours_with_data': [6, 7, 8, 9, 10, 11, 12], 'valid': False}\n",
      "sol_hours_with_data --> [6, 7, 8, 9, 10, 11, 12]\n",
      "valid --> False\n",
      "HWS --> {'sol_hours_with_data': [6, 7, 8, 9, 10, 11, 12], 'valid': False}\n",
      "sol_hours_with_data --> [6, 7, 8, 9, 10, 11, 12]\n",
      "valid --> False\n",
      "PRE --> {'sol_hours_with_data': [6, 7, 8, 9, 10, 11, 12], 'valid': False}\n",
      "sol_hours_with_data --> [6, 7, 8, 9, 10, 11, 12]\n",
      "valid --> False\n",
      "WD --> {'sol_hours_with_data': [6, 7, 8, 9, 10, 11, 12], 'valid': False}\n",
      "sol_hours_with_data --> [6, 7, 8, 9, 10, 11, 12]\n",
      "valid --> False\n",
      "sol_hours_required --> 18\n",
      "sols_checked --> ['1219']\n"
     ]
    }
   ],
   "source": [
    "def extract(d):\n",
    "    for k , v in d.items():\n",
    "        print(k,'-->',v)\n",
    "        if isinstance(v,dict):\n",
    "            extract(v)\n",
    "        \n",
    "extract(data)"
   ]
  },
  {
   "cell_type": "code",
   "execution_count": null,
   "metadata": {},
   "outputs": [],
   "source": []
  }
 ],
 "metadata": {
  "kernelspec": {
   "display_name": "base",
   "language": "python",
   "name": "python3"
  },
  "language_info": {
   "codemirror_mode": {
    "name": "ipython",
    "version": 3
   },
   "file_extension": ".py",
   "mimetype": "text/x-python",
   "name": "python",
   "nbconvert_exporter": "python",
   "pygments_lexer": "ipython3",
   "version": "3.11.4"
  },
  "orig_nbformat": 4
 },
 "nbformat": 4,
 "nbformat_minor": 2
}
